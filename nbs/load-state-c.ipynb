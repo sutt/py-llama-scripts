{
 "cells": [
  {
   "cell_type": "code",
   "execution_count": 2,
   "metadata": {},
   "outputs": [],
   "source": [
    "from llama_cpp import Llama\n",
    "import time, json"
   ]
  },
  {
   "cell_type": "code",
   "execution_count": 12,
   "metadata": {},
   "outputs": [
    {
     "name": "stderr",
     "output_type": "stream",
     "text": [
      "AVX = 1 | AVX2 = 1 | AVX512 = 1 | AVX512_VBMI = 0 | AVX512_VNNI = 0 | FMA = 1 | NEON = 0 | ARM_FMA = 0 | F16C = 1 | FP16_VA = 0 | WASM_SIMD = 0 | BLAS = 0 | SSE3 = 1 | SSSE3 = 0 | VSX = 0 | \n"
     ]
    }
   ],
   "source": [
    "modelPath = '../../data/llama-2-7b.Q4_K_M.gguf'\n",
    "# template=\"<|prompter|>{user_prompt}</s><|assistant|>\"\n",
    "big_text = \"\"\"The following in an excerpt of an article.\n",
    "\n",
    "Alaska Airlines Flight 1282 was bound for Ontario, California when it returned to Portland, Oregon shortly after takeoff on Friday after a pressurization issue was detected. No serious injuries were reported on the flight, according to federal safety officials. The flight returned to Portland, Oregon, shortly after takeoff on Friday after a pressurization issue was reported.\n",
    "\n",
    "Images and video of Alaska's Boeing 737 Max 9 shared on social media showed a gaping hole on the side of the plane and passengers using oxygen masks before it returned to Portland.\n",
    "\n",
    "“Safety will continue to drive our decision-making as we assist the NTSB's investigation into Alaska Airlines Flight 1282,” FAA Administrator Mike Whitaker said in a statement.\n",
    "\n",
    "Question:\n",
    "\"\"\"\n",
    "\n",
    "llm = Llama(\n",
    "        model_path=modelPath, \n",
    "    )"
   ]
  },
  {
   "cell_type": "code",
   "execution_count": 13,
   "metadata": {},
   "outputs": [
    {
     "data": {
      "text/plain": [
       "194"
      ]
     },
     "execution_count": 13,
     "metadata": {},
     "output_type": "execute_result"
    }
   ],
   "source": [
    "len(llm.tokenize( big_text.encode() ))"
   ]
  },
  {
   "cell_type": "code",
   "execution_count": 14,
   "metadata": {},
   "outputs": [
    {
     "data": {
      "text/plain": [
       "(512, 0)"
      ]
     },
     "execution_count": 14,
     "metadata": {},
     "output_type": "execute_result"
    }
   ],
   "source": [
    "llm.n_ctx(), llm.n_tokens"
   ]
  },
  {
   "cell_type": "code",
   "execution_count": 15,
   "metadata": {},
   "outputs": [],
   "source": [
    "def reverse_cumsum(d):\n",
    "    tmp = [(k,v) for k,v in d.items()]\n",
    "    d = {tmp[0][0]:tmp[0][1]}\n",
    "    for i, e in enumerate(tmp[1:]):\n",
    "        d[e[0]] = e[1] - tmp[i][1]\n",
    "    return d"
   ]
  },
  {
   "cell_type": "code",
   "execution_count": 16,
   "metadata": {},
   "outputs": [],
   "source": [
    "def askTheQuestion(in_state, question_text, max_tokens=10):\n",
    "    d_time = {}\n",
    "    t0 = time.time()\n",
    "    llm.load_state(in_state)\n",
    "    d_time['load_state'] = time.time() - t0\n",
    "    print(\"Loaded state. ntokens: \", llm.n_tokens)\n",
    "    llm.eval(\n",
    "        llm.tokenize( \n",
    "            (question_text).encode() \n",
    "        )\n",
    "    )\n",
    "    d_time['eval_prompt'] = time.time() - t0\n",
    "    print(\"Tokenized.\")\n",
    "    token = llm.sample()\n",
    "    counter = 0\n",
    "    while token is not llm.token_eos() :\n",
    "        counter += 1\n",
    "        if counter > max_tokens: break\n",
    "        print(llm.detokenize([token]).decode(), end='', flush=True)\n",
    "        llm.eval([token])\n",
    "        token = llm.sample()\n",
    "    d_time['main_sample'] = time.time() - t0\n",
    "    d_time = reverse_cumsum(d_time)\n",
    "    print(json.dumps(d_time, indent=2))\n",
    "\n",
    "def createState(prefix) :\n",
    "    d_time = {}\n",
    "    t0 = time.time()\n",
    "    llm.reset()\n",
    "    d_time['reset'] = time.time() - t0\n",
    "    output = llm.eval(llm.tokenize(prefix.encode()))\n",
    "    d_time['eval_time'] = time.time() - t0\n",
    "    d_time = reverse_cumsum(d_time)\n",
    "    print(json.dumps(d_time, indent=2))\n",
    "    return llm.save_state()"
   ]
  },
  {
   "cell_type": "code",
   "execution_count": 17,
   "metadata": {},
   "outputs": [
    {
     "name": "stdout",
     "output_type": "stream",
     "text": [
      "{\n",
      "  \"reset\": 0.0,\n",
      "  \"eval_time\": 21.17530083656311\n",
      "}\n",
      "Saved First State\n"
     ]
    },
    {
     "name": "stderr",
     "output_type": "stream",
     "text": [
      "Llama.save_state: saving llama state\n",
      "Llama.save_state: got state size: 293333804\n",
      "Llama.save_state: allocated state\n",
      "Llama.save_state: copied llama state: 126616376\n",
      "Llama.save_state: saving 126616376 bytes of llama state\n"
     ]
    }
   ],
   "source": [
    "first_state = createState(big_text)\n",
    "print(\"Saved First State\")\n"
   ]
  },
  {
   "cell_type": "code",
   "execution_count": 18,
   "metadata": {},
   "outputs": [
    {
     "name": "stdout",
     "output_type": "stream",
     "text": [
      "Loaded state. ntokens:  194\n",
      "Tokenized.\n",
      "\n",
      "\n",
      "Comment: The flight from Portland to{\n",
      "  \"load_state\": 0.09851551055908203,\n",
      "  \"eval_prompt\": 1.1630008220672607,\n",
      "  \"main_sample\": 1.6533801555633545\n",
      "}\n"
     ]
    }
   ],
   "source": [
    "q1 = \"What was the destination of the plane?\"\n",
    "askTheQuestion(first_state, q1)\n"
   ]
  },
  {
   "cell_type": "code",
   "execution_count": 19,
   "metadata": {},
   "outputs": [
    {
     "name": "stdout",
     "output_type": "stream",
     "text": [
      "Loaded state. ntokens:  194\n",
      "Tokenized.\n",
      "\n",
      "\n",
      "Answer: The incident happened on Friday,{\n",
      "  \"load_state\": 0.07854390144348145,\n",
      "  \"eval_prompt\": 0.8646790981292725,\n",
      "  \"main_sample\": 1.63368821144104\n",
      "}\n"
     ]
    }
   ],
   "source": [
    "q2 = \"When did the flight occur?\"\n",
    "askTheQuestion(first_state, q2)"
   ]
  },
  {
   "cell_type": "code",
   "execution_count": null,
   "metadata": {},
   "outputs": [],
   "source": []
  }
 ],
 "metadata": {
  "kernelspec": {
   "display_name": "venv",
   "language": "python",
   "name": "python3"
  },
  "language_info": {
   "codemirror_mode": {
    "name": "ipython",
    "version": 3
   },
   "file_extension": ".py",
   "mimetype": "text/x-python",
   "name": "python",
   "nbconvert_exporter": "python",
   "pygments_lexer": "ipython3",
   "version": "3.9.10"
  }
 },
 "nbformat": 4,
 "nbformat_minor": 2
}
