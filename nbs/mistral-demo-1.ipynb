{
 "cells": [
  {
   "cell_type": "code",
   "execution_count": 6,
   "metadata": {},
   "outputs": [],
   "source": [
    "import ctypes\n",
    "import json, time\n",
    "from llama_cpp import llama_log_set\n",
    "from llama_cpp import Llama\n",
    "\n",
    "def my_log_callback(level, message, user_data):\n",
    "    pass\n",
    "log_callback = ctypes.CFUNCTYPE(None, ctypes.c_int, ctypes.c_char_p, ctypes.c_void_p)(my_log_callback)\n",
    "llama_log_set(log_callback, ctypes.c_void_p())\n"
   ]
  },
  {
   "cell_type": "code",
   "execution_count": 4,
   "metadata": {},
   "outputs": [
    {
     "name": "stderr",
     "output_type": "stream",
     "text": [
      "AVX = 1 | AVX_VNNI = 0 | AVX2 = 1 | AVX512 = 1 | AVX512_VBMI = 0 | AVX512_VNNI = 0 | FMA = 1 | NEON = 0 | ARM_FMA = 0 | F16C = 1 | FP16_VA = 0 | WASM_SIMD = 0 | BLAS = 0 | SSE3 = 1 | SSSE3 = 0 | VSX = 0 | \n"
     ]
    }
   ],
   "source": [
    "# '../../../../data/mistral-7b-instruct-v0.2.Q4_K_M.gguf'\n",
    "model_dir = '../../../../data/'\n",
    "model_fn = 'mistral-7b-instruct-v0.2.Q4_K_M.gguf'\n",
    "model_fn =  model_dir + model_fn\n",
    "llm = Llama(\n",
    "    model_fn, \n",
    ")"
   ]
  },
  {
   "cell_type": "code",
   "execution_count": 7,
   "metadata": {},
   "outputs": [],
   "source": [
    "prompt = \"\"\"<s>[INST] List five words which are associated with the study of Geology. [/INST]\"\"\""
   ]
  },
  {
   "cell_type": "code",
   "execution_count": 8,
   "metadata": {},
   "outputs": [],
   "source": [
    "model_params = {\n",
    "    'temperature': 0.8,\n",
    "    'max_tokens': 200,\n",
    "}\n",
    "prompt = prompt.rstrip() # don't leave a space at the end for llama tokenization's sake\n",
    "\n",
    "output = llm(\n",
    "    prompt=prompt, \n",
    "    **model_params,\n",
    ")"
   ]
  },
  {
   "cell_type": "code",
   "execution_count": 9,
   "metadata": {},
   "outputs": [
    {
     "data": {
      "text/plain": [
       "{'id': 'cmpl-e3917ade-adf2-4375-a48d-6cd0680f9684',\n",
       " 'object': 'text_completion',\n",
       " 'created': 1705455994,\n",
       " 'model': '../../../../data/mistral-7b-instruct-v0.2.Q4_K_M.gguf',\n",
       " 'choices': [{'text': \" 1. Rocks: This is the most basic and fundamental concept in geology, as it deals with the identification, classification, and description of various types of rocks based on their mineral composition and texture.\\n\\n2. Minerals: Minerals are the building blocks of rocks, and the study of minerals is an essential aspect of geology. Geologists identify and classify different minerals based on their physical and chemical properties.\\n\\n3. Plate Tectonics: Plate tectonics is a major subdiscipline of geology that deals with the large-scale movements of the Earth's crust and upper mantle. It explains how the Earth's surface is broken up into several large plates that move and interact with each other.\\n\\n4. Stratigraphy: Stratigraphy is the branch of geology that deals with the order and relative position of strata or layers of rock, and the\",\n",
       "   'index': 0,\n",
       "   'logprobs': None,\n",
       "   'finish_reason': 'length'}],\n",
       " 'usage': {'prompt_tokens': 22, 'completion_tokens': 200, 'total_tokens': 222}}"
      ]
     },
     "execution_count": 9,
     "metadata": {},
     "output_type": "execute_result"
    }
   ],
   "source": [
    "output"
   ]
  },
  {
   "cell_type": "code",
   "execution_count": 16,
   "metadata": {},
   "outputs": [
    {
     "name": "stdout",
     "output_type": "stream",
     "text": [
      " 1. Rocks: This is the most basic and fundamental concept in geology, as it deals with the identification, classification, and description of various types of rocks based on their mineral composition and texture.\n",
      "\n",
      "2. Minerals: Minerals are the building blocks of rocks, and the study of minerals is an essential aspect of geology. Geologists identify and classify different minerals based on their physical and chemical properties.\n",
      "\n",
      "3. Plate Tectonics: Plate tectonics is a major subdiscipline of geology that deals with the large-scale movements of the Earth's crust and upper mantle. It explains how the Earth's surface is broken up into several large plates that move and interact with each other.\n",
      "\n",
      "4. Stratigraphy: Stratigraphy is the branch of geology that deals with the order and relative position of strata or layers of rock, and the\n"
     ]
    }
   ],
   "source": [
    "print(output['choices'][0]['text'])"
   ]
  },
  {
   "cell_type": "code",
   "execution_count": null,
   "metadata": {},
   "outputs": [],
   "source": []
  }
 ],
 "metadata": {
  "kernelspec": {
   "display_name": "venv",
   "language": "python",
   "name": "python3"
  },
  "language_info": {
   "codemirror_mode": {
    "name": "ipython",
    "version": 3
   },
   "file_extension": ".py",
   "mimetype": "text/x-python",
   "name": "python",
   "nbconvert_exporter": "python",
   "pygments_lexer": "ipython3",
   "version": "3.9.10"
  }
 },
 "nbformat": 4,
 "nbformat_minor": 2
}
