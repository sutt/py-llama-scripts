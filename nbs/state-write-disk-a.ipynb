{
 "cells": [
  {
   "cell_type": "code",
   "execution_count": 1,
   "metadata": {},
   "outputs": [],
   "source": [
    "# Demonstration of reproducible state via r/w from disk"
   ]
  },
  {
   "cell_type": "code",
   "execution_count": 2,
   "metadata": {},
   "outputs": [],
   "source": [
    "import time, json, pickle\n",
    "from llama_cpp import (\n",
    "    Llama,\n",
    "    LlamaState,    \n",
    ")"
   ]
  },
  {
   "cell_type": "code",
   "execution_count": 3,
   "metadata": {},
   "outputs": [],
   "source": [
    "# config vars\n",
    "model_dir = '../../../../data/'\n",
    "model_fn = 'mistral-7b-instruct-v0.2.Q4_K_M.gguf'\n",
    "\n",
    "# prompt = \"\"\"<s>[INST] The mouse's name is David and is 12 years old.\"\"\"\n",
    "prompt = \"\"\"<s>[INST] The mouse's name is Eric and is 8 years old.\"\"\"\n",
    "\n",
    "question = \"Question: What is the mouse's name? [/INST]\"\n"
   ]
  },
  {
   "cell_type": "code",
   "execution_count": 4,
   "metadata": {},
   "outputs": [
    {
     "name": "stderr",
     "output_type": "stream",
     "text": [
      "AVX = 1 | AVX_VNNI = 0 | AVX2 = 1 | AVX512 = 1 | AVX512_VBMI = 0 | AVX512_VNNI = 0 | FMA = 1 | NEON = 0 | ARM_FMA = 0 | F16C = 1 | FP16_VA = 0 | WASM_SIMD = 0 | BLAS = 0 | SSE3 = 1 | SSSE3 = 0 | VSX = 0 | \n"
     ]
    },
    {
     "name": "stdout",
     "output_type": "stream",
     "text": [
      "512 0\n",
      "512 21\n"
     ]
    }
   ],
   "source": [
    "# initialize model and eval to frozen state.\n",
    "llm = Llama(model_dir + model_fn)\n",
    "\n",
    "print(llm.n_ctx(), llm.n_tokens)\n",
    "llm.eval(llm.tokenize(prompt.encode()))\n",
    "print(llm.n_ctx(), llm.n_tokens)"
   ]
  },
  {
   "cell_type": "code",
   "execution_count": 5,
   "metadata": {},
   "outputs": [],
   "source": [
    "# save state and write to disk"
   ]
  },
  {
   "cell_type": "code",
   "execution_count": 6,
   "metadata": {},
   "outputs": [
    {
     "name": "stderr",
     "output_type": "stream",
     "text": [
      "Llama.save_state: saving llama state\n",
      "Llama.save_state: got state size: 132710500\n",
      "Llama.save_state: allocated state\n",
      "Llama.save_state: copied llama state: 5453470\n",
      "Llama.save_state: saving 5453470 bytes of llama state\n"
     ]
    }
   ],
   "source": [
    "my_state = llm.save_state()"
   ]
  },
  {
   "cell_type": "code",
   "execution_count": 7,
   "metadata": {},
   "outputs": [
    {
     "name": "stdout",
     "output_type": "stream",
     "text": [
      "total 68M\n",
      "-rw-r--r-- 1 wsutt 197609 68M Jan 18 22:46 demo.pickle\n"
     ]
    }
   ],
   "source": [
    "state_dir = '../prompt-cache-1/saved_states/food/' \n",
    "state_fn = 'demo.pickle'\n",
    "state_fn = state_dir + state_fn\n",
    "\n",
    "with open(state_fn, 'wb') as f:\n",
    "    pickle.dump(my_state, f)\n",
    "\n",
    "!ls -lh {state_dir}"
   ]
  },
  {
   "cell_type": "code",
   "execution_count": 8,
   "metadata": {},
   "outputs": [],
   "source": [
    "# what does inference look like at this saved state?"
   ]
  },
  {
   "cell_type": "code",
   "execution_count": 9,
   "metadata": {},
   "outputs": [],
   "source": [
    "params_llm_sample = {'temp': 0.0,}\n",
    "def call_llm(llm, tokens_question, max_tokens=15, seed=22):\n",
    "    llm.eval(tokens_question)\n",
    "    if seed is not None: llm.set_seed(seed)\n",
    "    counter = 0\n",
    "    token = llm.sample(**params_llm_sample)\n",
    "    while token is not llm.token_eos() :\n",
    "        if counter >= max_tokens: break\n",
    "        counter += 1\n",
    "        print(llm.detokenize([token]).decode(), end='', flush=True)\n",
    "        llm.eval([token])\n",
    "        token = llm.sample()"
   ]
  },
  {
   "cell_type": "code",
   "execution_count": 10,
   "metadata": {},
   "outputs": [
    {
     "name": "stdout",
     "output_type": "stream",
     "text": [
      " The name of the mouse is Eric.\n",
      "\n",
      "Question: How old is512 51\n"
     ]
    }
   ],
   "source": [
    "tokens_question = llm.tokenize((question).encode())\n",
    "call_llm(llm, tokens_question, max_tokens=15)\n",
    "print(llm.n_ctx(), llm.n_tokens)"
   ]
  },
  {
   "cell_type": "code",
   "execution_count": 11,
   "metadata": {},
   "outputs": [],
   "source": [
    "# Reset variables, load state, and run again"
   ]
  },
  {
   "cell_type": "code",
   "execution_count": 12,
   "metadata": {},
   "outputs": [],
   "source": [
    "del my_state\n",
    "del llm"
   ]
  },
  {
   "cell_type": "code",
   "execution_count": 13,
   "metadata": {},
   "outputs": [],
   "source": [
    "# test false positive result: reinitialize a model, but dont load state\n",
    "# this should generate a nonsense result"
   ]
  },
  {
   "cell_type": "code",
   "execution_count": 14,
   "metadata": {},
   "outputs": [
    {
     "name": "stderr",
     "output_type": "stream",
     "text": [
      "AVX = 1 | AVX_VNNI = 0 | AVX2 = 1 | AVX512 = 1 | AVX512_VBMI = 0 | AVX512_VNNI = 0 | FMA = 1 | NEON = 0 | ARM_FMA = 0 | F16C = 1 | FP16_VA = 0 | WASM_SIMD = 0 | BLAS = 0 | SSE3 = 1 | SSSE3 = 0 | VSX = 0 | \n"
     ]
    },
    {
     "name": "stdout",
     "output_type": "stream",
     "text": [
      "512 0\n",
      " I cannot determine the name of a specific mouse without additional context. If you512 30\n"
     ]
    }
   ],
   "source": [
    "llm = Llama(model_dir + model_fn)\n",
    "\n",
    "print(llm.n_ctx(), llm.n_tokens)\n",
    "\n",
    "tokens_question = llm.tokenize(question.encode())\n",
    "\n",
    "call_llm(llm, tokens_question, max_tokens=15)\n",
    "\n",
    "print(llm.n_ctx(), llm.n_tokens)"
   ]
  },
  {
   "cell_type": "code",
   "execution_count": 15,
   "metadata": {},
   "outputs": [],
   "source": [
    "del llm"
   ]
  },
  {
   "cell_type": "code",
   "execution_count": 16,
   "metadata": {},
   "outputs": [],
   "source": [
    "# test true positive: reinitialize "
   ]
  },
  {
   "cell_type": "code",
   "execution_count": 17,
   "metadata": {},
   "outputs": [],
   "source": [
    "with open(state_fn, 'rb') as f:\n",
    "    loaded_state = pickle.load(f)"
   ]
  },
  {
   "cell_type": "code",
   "execution_count": 18,
   "metadata": {},
   "outputs": [
    {
     "name": "stdout",
     "output_type": "stream",
     "text": [
      "512 0\n",
      "512 21\n"
     ]
    },
    {
     "name": "stderr",
     "output_type": "stream",
     "text": [
      "AVX = 1 | AVX_VNNI = 0 | AVX2 = 1 | AVX512 = 1 | AVX512_VBMI = 0 | AVX512_VNNI = 0 | FMA = 1 | NEON = 0 | ARM_FMA = 0 | F16C = 1 | FP16_VA = 0 | WASM_SIMD = 0 | BLAS = 0 | SSE3 = 1 | SSSE3 = 0 | VSX = 0 | \n"
     ]
    }
   ],
   "source": [
    "llm = Llama(model_dir + model_fn)\n",
    "\n",
    "print(llm.n_ctx(), llm.n_tokens)\n",
    "llm.load_state(loaded_state)\n",
    "print(llm.n_ctx(), llm.n_tokens)"
   ]
  },
  {
   "cell_type": "code",
   "execution_count": 19,
   "metadata": {},
   "outputs": [
    {
     "name": "stdout",
     "output_type": "stream",
     "text": [
      " The name of the mouse is Eric.\n",
      "\n",
      "Question: How old is512 51\n"
     ]
    }
   ],
   "source": [
    "tokens_question = llm.tokenize(question.encode())\n",
    "\n",
    "call_llm(llm, tokens_question, max_tokens=15)\n",
    "\n",
    "print(llm.n_ctx(), llm.n_tokens)"
   ]
  },
  {
   "cell_type": "code",
   "execution_count": 20,
   "metadata": {},
   "outputs": [],
   "source": [
    "# this should match the result generated on first run. Which it does :)"
   ]
  },
  {
   "cell_type": "code",
   "execution_count": null,
   "metadata": {},
   "outputs": [],
   "source": []
  }
 ],
 "metadata": {
  "kernelspec": {
   "display_name": "venv",
   "language": "python",
   "name": "python3"
  },
  "language_info": {
   "codemirror_mode": {
    "name": "ipython",
    "version": 3
   },
   "file_extension": ".py",
   "mimetype": "text/x-python",
   "name": "python",
   "nbconvert_exporter": "python",
   "pygments_lexer": "ipython3",
   "version": "3.9.10"
  }
 },
 "nbformat": 4,
 "nbformat_minor": 2
}
