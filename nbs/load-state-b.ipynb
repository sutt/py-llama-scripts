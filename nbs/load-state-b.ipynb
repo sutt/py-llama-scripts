{
 "cells": [
  {
   "cell_type": "code",
   "execution_count": 1,
   "metadata": {},
   "outputs": [],
   "source": [
    "from llama_cpp import Llama\n",
    "import time, json"
   ]
  },
  {
   "cell_type": "code",
   "execution_count": 2,
   "metadata": {},
   "outputs": [
    {
     "name": "stderr",
     "output_type": "stream",
     "text": [
      "AVX = 1 | AVX2 = 1 | AVX512 = 1 | AVX512_VBMI = 0 | AVX512_VNNI = 0 | FMA = 1 | NEON = 0 | ARM_FMA = 0 | F16C = 1 | FP16_VA = 0 | WASM_SIMD = 0 | BLAS = 0 | SSE3 = 1 | SSSE3 = 0 | VSX = 0 | \n"
     ]
    }
   ],
   "source": [
    "modelPath = '../../data/llama-2-7b.Q4_K_M.gguf'\n",
    "template=\"<|prompter|>{user_prompt}</s><|assistant|>\"\n",
    "\n",
    "llm = Llama(\n",
    "        model_path=modelPath, \n",
    "    )"
   ]
  },
  {
   "cell_type": "code",
   "execution_count": 3,
   "metadata": {},
   "outputs": [
    {
     "data": {
      "text/plain": [
       "(512, 0)"
      ]
     },
     "execution_count": 3,
     "metadata": {},
     "output_type": "execute_result"
    }
   ],
   "source": [
    "llm.n_ctx(), llm.n_tokens"
   ]
  },
  {
   "cell_type": "code",
   "execution_count": 4,
   "metadata": {},
   "outputs": [],
   "source": [
    "def reverse_cumsum(d):\n",
    "    tmp = [(k,v) for k,v in d.items()]\n",
    "    d = {tmp[0][0]:tmp[0][1]}\n",
    "    for i, e in enumerate(tmp[1:]):\n",
    "        d[e[0]] = e[1] - tmp[i][1]\n",
    "    return d"
   ]
  },
  {
   "cell_type": "code",
   "execution_count": 5,
   "metadata": {},
   "outputs": [],
   "source": [
    "def askTheQuestion(in_state, prompt, max_tokens=10):\n",
    "    d_time = {}\n",
    "    t0 = time.time()\n",
    "    llm.load_state(in_state)\n",
    "    d_time['load_state'] = time.time() - t0\n",
    "    print(\"Loaded state. ntokens: \", llm.n_tokens)\n",
    "    llm.eval(llm.tokenize(\" {prompt}</s><|assistant|> \".format(\n",
    "        prompt=prompt).encode())\n",
    "    )\n",
    "    d_time['eval_prompt'] = time.time() - t0\n",
    "    print(\"Tokenized.\")\n",
    "    token = llm.sample()\n",
    "    counter = 0\n",
    "    while token is not llm.token_eos() :\n",
    "        counter += 1\n",
    "        if counter > max_tokens: break\n",
    "        print(llm.detokenize([token]).decode(), end='', flush=True)\n",
    "        llm.eval([token])\n",
    "        token = llm.sample()\n",
    "    d_time['main_sample'] = time.time() - t0\n",
    "    d_time = reverse_cumsum(d_time)\n",
    "    print(json.dumps(d_time, indent=2))\n",
    "\n",
    "def createState(prefix) :\n",
    "    d_time = {}\n",
    "    t0 = time.time()\n",
    "    llm.reset()\n",
    "    d_time['reset'] = time.time() - t0\n",
    "    output = llm.eval(llm.tokenize(prefix.encode()))\n",
    "    d_time['eval_time'] = time.time() - t0\n",
    "    d_time = reverse_cumsum(d_time)\n",
    "    print(json.dumps(d_time, indent=2))\n",
    "    return llm.save_state()"
   ]
  },
  {
   "cell_type": "code",
   "execution_count": 6,
   "metadata": {},
   "outputs": [
    {
     "name": "stdout",
     "output_type": "stream",
     "text": [
      "{\n",
      "  \"reset\": 0.0,\n",
      "  \"eval_time\": 7.0601561069488525\n",
      "}\n",
      "Saved First State\n"
     ]
    },
    {
     "name": "stderr",
     "output_type": "stream",
     "text": [
      "Llama.save_state: saving llama state\n",
      "Llama.save_state: got state size: 276181804\n",
      "Llama.save_state: allocated state\n",
      "Llama.save_state: copied llama state: 39209248\n",
      "Llama.save_state: saving 39209248 bytes of llama state\n"
     ]
    }
   ],
   "source": [
    "first_state = createState(\"<|prompter|>You are a superhero named Fred. You live in Metropolis. Your nemesis is Lex Luthor. Everyone thinks you're Superman, but you're a different hero that wishes he could be recognized on his own merits.\");\n",
    "print(\"Saved First State\")\n"
   ]
  },
  {
   "cell_type": "code",
   "execution_count": 7,
   "metadata": {},
   "outputs": [
    {
     "name": "stdout",
     "output_type": "stream",
     "text": [
      "{\n",
      "  \"reset\": 0.0,\n",
      "  \"eval_time\": 2.8706045150756836\n",
      "}\n",
      "Saved Second State\n"
     ]
    },
    {
     "name": "stderr",
     "output_type": "stream",
     "text": [
      "Llama.save_state: saving llama state\n",
      "Llama.save_state: got state size: 276181804\n",
      "Llama.save_state: allocated state\n",
      "Llama.save_state: copied llama state: 20334736\n",
      "Llama.save_state: saving 20334736 bytes of llama state\n"
     ]
    }
   ],
   "source": [
    "\n",
    "second_state = createState(\"<|prompter|>You are a hobbit named Barney that lives in the shire.\");\n",
    "print(\"Saved Second State\")\n"
   ]
  },
  {
   "cell_type": "code",
   "execution_count": 8,
   "metadata": {},
   "outputs": [
    {
     "name": "stdout",
     "output_type": "stream",
     "text": [
      "Loaded state. ntokens:  60\n",
      "Tokenized.\n",
      " I am here at the Daily Planet, waiting for{\n",
      "  \"load_state\": 0.037410736083984375,\n",
      "  \"eval_prompt\": 1.8970098495483398,\n",
      "  \"main_sample\": 1.7665233612060547\n",
      "}\n"
     ]
    }
   ],
   "source": [
    "\n",
    "askTheQuestion(first_state, \"What is happening today?\")\n"
   ]
  },
  {
   "cell_type": "code",
   "execution_count": 11,
   "metadata": {},
   "outputs": [
    {
     "name": "stdout",
     "output_type": "stream",
     "text": [
      "Loaded state. ntokens:  24\n",
      "Tokenized.\n",
      " Today you're going to be doing your ch{\n",
      "  \"load_state\": 0.027421951293945312,\n",
      "  \"eval_prompt\": 1.9321198463439941,\n",
      "  \"main_sample\": 1.6253106594085693\n",
      "}\n"
     ]
    }
   ],
   "source": [
    "askTheQuestion(second_state, \"What is happening today?\")"
   ]
  },
  {
   "cell_type": "code",
   "execution_count": 12,
   "metadata": {},
   "outputs": [
    {
     "name": "stdout",
     "output_type": "stream",
     "text": [
      "Loaded state. ntokens:  60\n",
      "Tokenized.\n",
      " You are the president of the United States and you{\n",
      "  \"load_state\": 0.041242122650146484,\n",
      "  \"eval_prompt\": 1.873370885848999,\n",
      "  \"main_sample\": 1.822178602218628\n",
      "}\n",
      "Loaded state. ntokens:  60\n",
      "Tokenized.\n",
      " I am here at the Daily Planet, waiting for{\n",
      "  \"load_state\": 0.033985137939453125,\n",
      "  \"eval_prompt\": 1.812589168548584,\n",
      "  \"main_sample\": 1.7143278121948242\n",
      "}\n"
     ]
    }
   ],
   "source": [
    "askTheQuestion(first_state, \"What is your dream?\")\n",
    "askTheQuestion(first_state, \"What is happening today?\")"
   ]
  },
  {
   "cell_type": "code",
   "execution_count": 13,
   "metadata": {},
   "outputs": [
    {
     "name": "stdout",
     "output_type": "stream",
     "text": [
      "Loaded state. ntokens:  24\n",
      "Tokenized.\n",
      " Today you're going to be doing your ch{\n",
      "  \"load_state\": 0.029329538345336914,\n",
      "  \"eval_prompt\": 1.988227367401123,\n",
      "  \"main_sample\": 1.7650163173675537\n",
      "}\n",
      "Loaded state. ntokens:  24\n",
      "Tokenized.\n",
      " My favourite things are my pipe and my to{\n",
      "  \"load_state\": 0.023984432220458984,\n",
      "  \"eval_prompt\": 2.1846811771392822,\n",
      "  \"main_sample\": 1.7713751792907715\n",
      "}\n"
     ]
    }
   ],
   "source": [
    "\n",
    "# failure happens on the line below.\n",
    "askTheQuestion(second_state, \"What is happening today?\")\n",
    "askTheQuestion(second_state, \"What is your favourite thing?\")"
   ]
  },
  {
   "cell_type": "code",
   "execution_count": null,
   "metadata": {},
   "outputs": [],
   "source": []
  }
 ],
 "metadata": {
  "kernelspec": {
   "display_name": "venv",
   "language": "python",
   "name": "python3"
  },
  "language_info": {
   "codemirror_mode": {
    "name": "ipython",
    "version": 3
   },
   "file_extension": ".py",
   "mimetype": "text/x-python",
   "name": "python",
   "nbconvert_exporter": "python",
   "pygments_lexer": "ipython3",
   "version": "3.9.10"
  }
 },
 "nbformat": 4,
 "nbformat_minor": 2
}
